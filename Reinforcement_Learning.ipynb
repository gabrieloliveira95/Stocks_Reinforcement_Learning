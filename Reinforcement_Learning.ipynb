{
  "nbformat": 4,
  "nbformat_minor": 0,
  "metadata": {
    "colab": {
      "name": "Reinforcement_Learning.ipynb",
      "provenance": [],
      "collapsed_sections": []
    },
    "kernelspec": {
      "name": "python3",
      "display_name": "Python 3"
    },
    "accelerator": "GPU"
  },
  "cells": [
    {
      "cell_type": "code",
      "metadata": {
        "id": "syG0T3dDBhDs"
      },
      "source": [
        "import math\n",
        "import random\n",
        "import numpy as np\n",
        "import pandas as pd\n",
        "import tensorflow as tf\n",
        "import matplotlib.pyplot as plt\n",
        "import pandas_datareader as pdr\n",
        "\n",
        "from tqdm import tqdm_notebook , tqdm\n",
        "from collections import deque"
      ],
      "execution_count": 1,
      "outputs": []
    },
    {
      "cell_type": "code",
      "metadata": {
        "colab": {
          "base_uri": "https://localhost:8080/",
          "height": 37
        },
        "id": "VtyXANyeCNqH",
        "outputId": "6539d65b-0ace-4b7f-9b32-af5e774ff9c7"
      },
      "source": [
        "tf.__version__"
      ],
      "execution_count": 2,
      "outputs": [
        {
          "output_type": "execute_result",
          "data": {
            "application/vnd.google.colaboratory.intrinsic+json": {
              "type": "string"
            },
            "text/plain": [
              "'2.4.0'"
            ]
          },
          "metadata": {
            "tags": []
          },
          "execution_count": 2
        }
      ]
    },
    {
      "cell_type": "markdown",
      "metadata": {
        "id": "9zDsUtacC3XI"
      },
      "source": [
        "# Construct AI"
      ]
    },
    {
      "cell_type": "code",
      "metadata": {
        "id": "EoPGPiLCCsHn"
      },
      "source": [
        "class AI_Trader():\n",
        "  def __init__(self, state_size, action_space=3, model_name=\"AITrader\"):\n",
        "    self.state_size = state_size\n",
        "    self.action_space = action_space\n",
        "    self.memory = deque(maxlen=2000)\n",
        "    self.model_name= model_name\n",
        "    self.gamma = 0.95\n",
        "    self.epsilon = 1\n",
        "    self.epsilon_final = 0.01\n",
        "    self.epsilon_decay = 0.995\n",
        "    self.model = self.modelBuilder()\n",
        "\n",
        "  def modelBuilder(self):\n",
        "    model = tf.keras.models.Sequential()\n",
        "    model.add(tf.keras.layers.Dense(units=32,activation='relu',input_dim= self.state_size))\n",
        "    model.add(tf.keras.layers.Dense(units=64,activation='relu'))\n",
        "    model.add(tf.keras.layers.Dense(units=128,activation='relu'))\n",
        "    model.add(tf.keras.layers.Dense(units=self.action_space,activation='linear'))\n",
        "    model.compile(loss='mse',optimizer = tf.keras.optimizers.Adam(learning_rate=0.001))\n",
        "    return model\n",
        "  \n",
        "  def trade(self,state):\n",
        "    if random.random() <= self.epsilon:\n",
        "      return random.randrange(self.action_space)\n",
        "\n",
        "    actions = self.model.predict(state)\n",
        "    return np.argmax(actions[0])\n",
        "  \n",
        "  def batch_train(self,bath_size):\n",
        "    batch = []\n",
        "    for i in range(len(self.memory) - batch_size+1,len(self.memory)):\n",
        "      batch.append(self.memory[i])\n",
        "\n",
        "    for state,action,reward,nextState,done in batch:\n",
        "      if not done:\n",
        "        reward = reward + self.gamma * np.argmax(self.model.predict(next_state)[0])\n",
        "\n",
        "      target = self.model.predict(state)\n",
        "      target[0][action] = reward\n",
        "\n",
        "      self.model.fit(state, target,epochs=1, verbose=False)\n",
        "    \n",
        "    if self.epsilon > self.epsilon_final:\n",
        "      self.epsilon *= self.epsilon_decay\n",
        "\n"
      ],
      "execution_count": 3,
      "outputs": []
    },
    {
      "cell_type": "markdown",
      "metadata": {
        "id": "JA6SJwFUEilC"
      },
      "source": [
        "## Pre-Processing DataBa\n",
        "se"
      ]
    },
    {
      "cell_type": "markdown",
      "metadata": {
        "id": "6MfPdjfrMFU9"
      },
      "source": [
        "## Sigmoid Function"
      ]
    },
    {
      "cell_type": "code",
      "metadata": {
        "id": "JxFer6d3El3m"
      },
      "source": [
        "def sigmoid(x):\n",
        "  return 1/(1 + math.exp(-x))"
      ],
      "execution_count": 4,
      "outputs": []
    },
    {
      "cell_type": "code",
      "metadata": {
        "colab": {
          "base_uri": "https://localhost:8080/"
        },
        "id": "g3J9IMElMOVJ",
        "outputId": "9e620d9c-fe33-4cb6-d098-7651b072f5ef"
      },
      "source": [
        "sigmoid(0.5)"
      ],
      "execution_count": 5,
      "outputs": [
        {
          "output_type": "execute_result",
          "data": {
            "text/plain": [
              "0.6224593312018546"
            ]
          },
          "metadata": {
            "tags": []
          },
          "execution_count": 5
        }
      ]
    },
    {
      "cell_type": "markdown",
      "metadata": {
        "id": "TBIQ4yerMW_Q"
      },
      "source": [
        "## Price Format"
      ]
    },
    {
      "cell_type": "code",
      "metadata": {
        "id": "L_gktpFWMP5D"
      },
      "source": [
        "def stocks_price_format(n):\n",
        "  return \"- ${0:2f}\".format(abs(n)) if n < 0 else \"${0:2f}\".format(abs(n))"
      ],
      "execution_count": 6,
      "outputs": []
    },
    {
      "cell_type": "code",
      "metadata": {
        "colab": {
          "base_uri": "https://localhost:8080/",
          "height": 37
        },
        "id": "lVb5icu-Mu-O",
        "outputId": "a9cba1fb-a07f-4233-c9b8-4e84e499e43c"
      },
      "source": [
        "stocks_price_format(100)"
      ],
      "execution_count": 7,
      "outputs": [
        {
          "output_type": "execute_result",
          "data": {
            "application/vnd.google.colaboratory.intrinsic+json": {
              "type": "string"
            },
            "text/plain": [
              "'$100.000000'"
            ]
          },
          "metadata": {
            "tags": []
          },
          "execution_count": 7
        }
      ]
    },
    {
      "cell_type": "markdown",
      "metadata": {
        "id": "xWUfuPzqNFbJ"
      },
      "source": [
        "## Load DataBase"
      ]
    },
    {
      "cell_type": "code",
      "metadata": {
        "id": "S23CoJ8RM0qr"
      },
      "source": [
        "dataset = pdr.DataReader('AAPL',data_source='yahoo')"
      ],
      "execution_count": 8,
      "outputs": []
    },
    {
      "cell_type": "code",
      "metadata": {
        "colab": {
          "base_uri": "https://localhost:8080/",
          "height": 235
        },
        "id": "dpXU7BY0NaYv",
        "outputId": "8f46ba48-db9a-414e-a96e-065934c0be9e"
      },
      "source": [
        "dataset.head()"
      ],
      "execution_count": 9,
      "outputs": [
        {
          "output_type": "execute_result",
          "data": {
            "text/html": [
              "<div>\n",
              "<style scoped>\n",
              "    .dataframe tbody tr th:only-of-type {\n",
              "        vertical-align: middle;\n",
              "    }\n",
              "\n",
              "    .dataframe tbody tr th {\n",
              "        vertical-align: top;\n",
              "    }\n",
              "\n",
              "    .dataframe thead th {\n",
              "        text-align: right;\n",
              "    }\n",
              "</style>\n",
              "<table border=\"1\" class=\"dataframe\">\n",
              "  <thead>\n",
              "    <tr style=\"text-align: right;\">\n",
              "      <th></th>\n",
              "      <th>High</th>\n",
              "      <th>Low</th>\n",
              "      <th>Open</th>\n",
              "      <th>Close</th>\n",
              "      <th>Volume</th>\n",
              "      <th>Adj Close</th>\n",
              "    </tr>\n",
              "    <tr>\n",
              "      <th>Date</th>\n",
              "      <th></th>\n",
              "      <th></th>\n",
              "      <th></th>\n",
              "      <th></th>\n",
              "      <th></th>\n",
              "      <th></th>\n",
              "    </tr>\n",
              "  </thead>\n",
              "  <tbody>\n",
              "    <tr>\n",
              "      <th>2016-01-15</th>\n",
              "      <td>24.427500</td>\n",
              "      <td>23.840000</td>\n",
              "      <td>24.049999</td>\n",
              "      <td>24.282499</td>\n",
              "      <td>319335600.0</td>\n",
              "      <td>22.497040</td>\n",
              "    </tr>\n",
              "    <tr>\n",
              "      <th>2016-01-19</th>\n",
              "      <td>24.662500</td>\n",
              "      <td>23.875000</td>\n",
              "      <td>24.602501</td>\n",
              "      <td>24.165001</td>\n",
              "      <td>212350800.0</td>\n",
              "      <td>22.388184</td>\n",
              "    </tr>\n",
              "    <tr>\n",
              "      <th>2016-01-20</th>\n",
              "      <td>24.547501</td>\n",
              "      <td>23.355000</td>\n",
              "      <td>23.775000</td>\n",
              "      <td>24.197500</td>\n",
              "      <td>289337600.0</td>\n",
              "      <td>22.418295</td>\n",
              "    </tr>\n",
              "    <tr>\n",
              "      <th>2016-01-21</th>\n",
              "      <td>24.469999</td>\n",
              "      <td>23.735001</td>\n",
              "      <td>24.264999</td>\n",
              "      <td>24.075001</td>\n",
              "      <td>208646000.0</td>\n",
              "      <td>22.304800</td>\n",
              "    </tr>\n",
              "    <tr>\n",
              "      <th>2016-01-22</th>\n",
              "      <td>25.365000</td>\n",
              "      <td>24.592501</td>\n",
              "      <td>24.657499</td>\n",
              "      <td>25.355000</td>\n",
              "      <td>263202000.0</td>\n",
              "      <td>23.490686</td>\n",
              "    </tr>\n",
              "  </tbody>\n",
              "</table>\n",
              "</div>"
            ],
            "text/plain": [
              "                 High        Low       Open      Close       Volume  Adj Close\n",
              "Date                                                                          \n",
              "2016-01-15  24.427500  23.840000  24.049999  24.282499  319335600.0  22.497040\n",
              "2016-01-19  24.662500  23.875000  24.602501  24.165001  212350800.0  22.388184\n",
              "2016-01-20  24.547501  23.355000  23.775000  24.197500  289337600.0  22.418295\n",
              "2016-01-21  24.469999  23.735001  24.264999  24.075001  208646000.0  22.304800\n",
              "2016-01-22  25.365000  24.592501  24.657499  25.355000  263202000.0  23.490686"
            ]
          },
          "metadata": {
            "tags": []
          },
          "execution_count": 9
        }
      ]
    },
    {
      "cell_type": "code",
      "metadata": {
        "colab": {
          "base_uri": "https://localhost:8080/",
          "height": 37
        },
        "id": "9gxMAAtVO30S",
        "outputId": "96b6a86b-3d01-4774-a17f-1f63215879c7"
      },
      "source": [
        "str(dataset.index[0]).split()[0]"
      ],
      "execution_count": 10,
      "outputs": [
        {
          "output_type": "execute_result",
          "data": {
            "application/vnd.google.colaboratory.intrinsic+json": {
              "type": "string"
            },
            "text/plain": [
              "'2016-01-15'"
            ]
          },
          "metadata": {
            "tags": []
          },
          "execution_count": 10
        }
      ]
    },
    {
      "cell_type": "code",
      "metadata": {
        "colab": {
          "base_uri": "https://localhost:8080/",
          "height": 37
        },
        "id": "7YOsgOS-PCON",
        "outputId": "ec8a8461-c0e7-47b4-9d10-65febac3c271"
      },
      "source": [
        "str(dataset.index[-1]).split()[0]"
      ],
      "execution_count": 11,
      "outputs": [
        {
          "output_type": "execute_result",
          "data": {
            "application/vnd.google.colaboratory.intrinsic+json": {
              "type": "string"
            },
            "text/plain": [
              "'2021-01-12'"
            ]
          },
          "metadata": {
            "tags": []
          },
          "execution_count": 11
        }
      ]
    },
    {
      "cell_type": "code",
      "metadata": {
        "id": "xWz1qH43N2Np"
      },
      "source": [
        "def datasetLoader(stock_name):\n",
        "  dataset = pdr.DataReader(stock_name,data_source='yahoo')\n",
        "  start_date = str(dataset.index[0]).split()[0]\n",
        "  end_date = str(dataset.index[-1]).split()[0]\n",
        "  close = dataset['Close']\n",
        "  return close"
      ],
      "execution_count": 12,
      "outputs": []
    },
    {
      "cell_type": "markdown",
      "metadata": {
        "id": "c7PyOdy6PU3A"
      },
      "source": [
        "## Ambient States"
      ]
    },
    {
      "cell_type": "code",
      "metadata": {
        "id": "3LAiQo5wPLz2"
      },
      "source": [
        "def stateCreator(data,timestep,window_size):\n",
        "  starting_id = timestep - window_size + 1\n",
        "  window_data = data[starting_id:timestep+1] if (starting_id >= 0) else  - starting_id * [data[0]] + list(data[0:timestep+1])\n",
        "\n",
        "  state = []\n",
        "\n",
        "  for i in range(window_size-1):\n",
        "    state.append(sigmoid(window_data[i+1]-window_data[i]))\n",
        "  \n",
        "  return np.array([state])"
      ],
      "execution_count": 13,
      "outputs": []
    },
    {
      "cell_type": "markdown",
      "metadata": {
        "id": "e6e88bd6Sg9N"
      },
      "source": [
        "## Load Database"
      ]
    },
    {
      "cell_type": "code",
      "metadata": {
        "id": "WKlGjjqfQuEB"
      },
      "source": [
        "stock_name = 'AAPL'\n",
        "data = datasetLoader(stock_name=stock_name)"
      ],
      "execution_count": 14,
      "outputs": []
    },
    {
      "cell_type": "code",
      "metadata": {
        "id": "sN_uU0DjSz1r"
      },
      "source": [
        "s = stateCreator(data=data,timestep=20,window_size=5)"
      ],
      "execution_count": 15,
      "outputs": []
    },
    {
      "cell_type": "code",
      "metadata": {
        "colab": {
          "base_uri": "https://localhost:8080/"
        },
        "id": "Z5AG-i-iS1mW",
        "outputId": "edeecbf9-5e24-485c-8c6a-2c0e94f6a3b7"
      },
      "source": [
        "s"
      ],
      "execution_count": 16,
      "outputs": [
        {
          "output_type": "execute_result",
          "data": {
            "text/plain": [
              "array([[0.45512103, 0.46443518, 0.51811712, 0.65982184]])"
            ]
          },
          "metadata": {
            "tags": []
          },
          "execution_count": 16
        }
      ]
    },
    {
      "cell_type": "markdown",
      "metadata": {
        "id": "H6yFUqWPTjx5"
      },
      "source": [
        "# Train\n",
        "\n",
        "## Hyper-Params"
      ]
    },
    {
      "cell_type": "code",
      "metadata": {
        "id": "veevQtGzTK9_"
      },
      "source": [
        "window_size = 10\n",
        "episodes = 1000\n",
        "batch_size = 32\n",
        "data_samples = len(data-1)"
      ],
      "execution_count": 17,
      "outputs": []
    },
    {
      "cell_type": "code",
      "metadata": {
        "id": "cegvJoWrT6GO"
      },
      "source": [
        "trader = AI_Trader(window_size)"
      ],
      "execution_count": 18,
      "outputs": []
    },
    {
      "cell_type": "code",
      "metadata": {
        "colab": {
          "base_uri": "https://localhost:8080/"
        },
        "id": "J1g1k7QdXRO-",
        "outputId": "960dfd48-1643-4be9-ac9e-defe45ab69a6"
      },
      "source": [
        "trader.model.summary()"
      ],
      "execution_count": 19,
      "outputs": [
        {
          "output_type": "stream",
          "text": [
            "Model: \"sequential\"\n",
            "_________________________________________________________________\n",
            "Layer (type)                 Output Shape              Param #   \n",
            "=================================================================\n",
            "dense (Dense)                (None, 32)                352       \n",
            "_________________________________________________________________\n",
            "dense_1 (Dense)              (None, 64)                2112      \n",
            "_________________________________________________________________\n",
            "dense_2 (Dense)              (None, 128)               8320      \n",
            "_________________________________________________________________\n",
            "dense_3 (Dense)              (None, 3)                 387       \n",
            "=================================================================\n",
            "Total params: 11,171\n",
            "Trainable params: 11,171\n",
            "Non-trainable params: 0\n",
            "_________________________________________________________________\n"
          ],
          "name": "stdout"
        }
      ]
    },
    {
      "cell_type": "code",
      "metadata": {
        "colab": {
          "base_uri": "https://localhost:8080/"
        },
        "id": "HZHMibMjXt2w",
        "outputId": "08fbb4f9-443b-4401-8d84-ba4d10875e08"
      },
      "source": [
        "for episode in range(1,episodes+1): \n",
        "  print(f\"Episode: {episode}/{episodes}\")\n",
        "  state = stateCreator(data,0,window_size + 1)\n",
        "  total_profit = 0\n",
        "  trader.inventory = []\n",
        "  for t in tqdm(range(data_samples)):\n",
        "    action = trader.trade(state=state)\n",
        "    next_state = stateCreator(data,t+1,window_size+1)\n",
        "    reward = 0\n",
        "\n",
        "    if action == 1:\n",
        "      #Buy Stock\n",
        "      trader.inventory.append(data[t])\n",
        "      print(f'AI Trader bought: {stocks_price_format(data[t])}')\n",
        "    elif action == 2 and len(trader.inventory) > 0:\n",
        "      buyPrice = trader.inventory.pop(0)\n",
        "      reward = max(data[t]-buyPrice,0)\n",
        "      totalProfit = data[t] - buyPrice\n",
        "      print(f'AI Trader sold: {data[t]} Profit: {stocks_price_format(data[t]-buyPrice)}')\n",
        "    if t == data_samples - 1:\n",
        "      done = True\n",
        "    else: \n",
        "      done = False\n",
        "    \n",
        "    trader.memory.append((state,action,reward,next_state,done))\n",
        "    state = next_state\n",
        "\n",
        "    if done:\n",
        "      print('#############')\n",
        "      print('#############')\n",
        "      print(f'Total Profit{totalProfit}')\n",
        "\n",
        "    if len(trader.memory) > batch_size:\n",
        "      trader.batch_train(batch_size)\n",
        "\n",
        "  if episode % 10 ==0:\n",
        "    trader.model.save(f'mode_{episode}.h5')"
      ],
      "execution_count": null,
      "outputs": [
        {
          "output_type": "stream",
          "text": [
            "\r  0%|          | 0/1257 [00:00<?, ?it/s]"
          ],
          "name": "stderr"
        },
        {
          "output_type": "stream",
          "text": [
            "Episode: 1/1000\n",
            "AI Trader bought: $24.282499\n",
            "AI Trader bought: $24.165001\n",
            "AI Trader bought: $24.075001\n",
            "AI Trader bought: $25.355000\n",
            "AI Trader bought: $24.860001\n",
            "AI Trader sold: 24.997499465942383 Profit: $0.715000\n",
            "AI Trader sold: 23.522499084472656 Profit: - $0.642502\n",
            "AI Trader bought: $24.334999\n",
            "AI Trader sold: 24.107500076293945 Profit: $0.032499\n",
            "AI Trader sold: 24.149999618530273 Profit: - $1.205000\n",
            "AI Trader bought: $23.504999\n",
            "AI Trader sold: 23.5674991607666 Profit: - $1.292501\n",
            "AI Trader bought: $23.424999\n",
            "AI Trader sold: 24.15999984741211 Profit: - $0.174999\n",
            "AI Trader bought: $24.065001\n",
            "AI Trader bought: $24.010000\n",
            "AI Trader sold: 24.219999313354492 Profit: $0.715000\n",
            "AI Trader sold: 23.672500610351562 Profit: $0.247501\n",
            "AI Trader bought: $24.025000\n",
            "AI Trader bought: $24.190001\n",
            "AI Trader bought: $24.227501\n",
            "AI Trader sold: 25.375 Profit: $1.309999\n"
          ],
          "name": "stdout"
        },
        {
          "output_type": "stream",
          "text": [
            "  3%|▎         | 35/1257 [00:11<33:08,  1.63s/it]"
          ],
          "name": "stderr"
        },
        {
          "output_type": "stream",
          "text": [
            "AI Trader sold: 25.25749969482422 Profit: $1.247499\n"
          ],
          "name": "stdout"
        },
        {
          "output_type": "stream",
          "text": [
            "\r  3%|▎         | 36/1257 [00:14<41:44,  2.05s/it]"
          ],
          "name": "stderr"
        },
        {
          "output_type": "stream",
          "text": [
            "AI Trader sold: 25.280000686645508 Profit: $1.255001\n"
          ],
          "name": "stdout"
        },
        {
          "output_type": "stream",
          "text": [
            "  3%|▎         | 38/1257 [00:20<51:59,  2.56s/it]"
          ],
          "name": "stderr"
        },
        {
          "output_type": "stream",
          "text": [
            "AI Trader bought: $25.565001\n"
          ],
          "name": "stdout"
        },
        {
          "output_type": "stream",
          "text": [
            "  3%|▎         | 40/1257 [00:26<56:22,  2.78s/it]"
          ],
          "name": "stderr"
        },
        {
          "output_type": "stream",
          "text": [
            "AI Trader bought: $26.145000\n"
          ],
          "name": "stdout"
        },
        {
          "output_type": "stream",
          "text": [
            "\r  3%|▎         | 41/1257 [00:29<58:17,  2.88s/it]"
          ],
          "name": "stderr"
        },
        {
          "output_type": "stream",
          "text": [
            "AI Trader sold: 26.49250030517578 Profit: $2.302500\n"
          ],
          "name": "stdout"
        },
        {
          "output_type": "stream",
          "text": [
            "\r  3%|▎         | 42/1257 [00:32<59:05,  2.92s/it]"
          ],
          "name": "stderr"
        },
        {
          "output_type": "stream",
          "text": [
            "AI Trader bought: $26.450001\n"
          ],
          "name": "stdout"
        },
        {
          "output_type": "stream",
          "text": [
            "\r  3%|▎         | 43/1257 [00:35<59:55,  2.96s/it]"
          ],
          "name": "stderr"
        },
        {
          "output_type": "stream",
          "text": [
            "AI Trader bought: $26.480000\n"
          ],
          "name": "stdout"
        },
        {
          "output_type": "stream",
          "text": [
            "\r  4%|▎         | 44/1257 [00:38<1:00:45,  3.01s/it]"
          ],
          "name": "stderr"
        },
        {
          "output_type": "stream",
          "text": [
            "AI Trader bought: $26.477501\n"
          ],
          "name": "stdout"
        },
        {
          "output_type": "stream",
          "text": [
            "\r  4%|▎         | 45/1257 [00:41<1:01:39,  3.05s/it]"
          ],
          "name": "stderr"
        },
        {
          "output_type": "stream",
          "text": [
            "AI Trader sold: 26.68000030517578 Profit: $2.452499\n"
          ],
          "name": "stdout"
        },
        {
          "output_type": "stream",
          "text": [
            "\r  4%|▎         | 46/1257 [00:44<1:01:40,  3.06s/it]"
          ],
          "name": "stderr"
        },
        {
          "output_type": "stream",
          "text": [
            "AI Trader bought: $26.532499\n"
          ],
          "name": "stdout"
        },
        {
          "output_type": "stream",
          "text": [
            "  4%|▍         | 48/1257 [00:51<1:01:40,  3.06s/it]"
          ],
          "name": "stderr"
        },
        {
          "output_type": "stream",
          "text": [
            "AI Trader bought: $26.297501\n"
          ],
          "name": "stdout"
        },
        {
          "output_type": "stream",
          "text": [
            "\r  4%|▍         | 49/1257 [00:54<1:01:59,  3.08s/it]"
          ],
          "name": "stderr"
        },
        {
          "output_type": "stream",
          "text": [
            "AI Trader sold: 26.920000076293945 Profit: $1.355000\n"
          ],
          "name": "stdout"
        },
        {
          "output_type": "stream",
          "text": [
            "  4%|▍         | 51/1257 [01:00<1:01:12,  3.04s/it]"
          ],
          "name": "stderr"
        },
        {
          "output_type": "stream",
          "text": [
            "AI Trader sold: 27.247499465942383 Profit: $1.102499\n"
          ],
          "name": "stdout"
        },
        {
          "output_type": "stream",
          "text": [
            "\r  4%|▍         | 52/1257 [01:03<1:00:12,  3.00s/it]"
          ],
          "name": "stderr"
        },
        {
          "output_type": "stream",
          "text": [
            "AI Trader bought: $27.497499\n"
          ],
          "name": "stdout"
        },
        {
          "output_type": "stream",
          "text": [
            "\r  4%|▍         | 53/1257 [01:06<1:00:43,  3.03s/it]"
          ],
          "name": "stderr"
        },
        {
          "output_type": "stream",
          "text": [
            "AI Trader sold: 27.780000686645508 Profit: $1.330000\n"
          ],
          "name": "stdout"
        },
        {
          "output_type": "stream",
          "text": [
            "\r  4%|▍         | 54/1257 [01:09<1:00:52,  3.04s/it]"
          ],
          "name": "stderr"
        },
        {
          "output_type": "stream",
          "text": [
            "AI Trader sold: 27.452499389648438 Profit: $0.972500\n"
          ],
          "name": "stdout"
        },
        {
          "output_type": "stream",
          "text": [
            "\r  4%|▍         | 55/1257 [01:12<1:00:24,  3.02s/it]"
          ],
          "name": "stderr"
        },
        {
          "output_type": "stream",
          "text": [
            "AI Trader sold: 27.739999771118164 Profit: $1.262499\n"
          ],
          "name": "stdout"
        },
        {
          "output_type": "stream",
          "text": [
            "\r  4%|▍         | 56/1257 [01:15<59:57,  3.00s/it]  "
          ],
          "name": "stderr"
        },
        {
          "output_type": "stream",
          "text": [
            "AI Trader bought: $27.135000\n"
          ],
          "name": "stdout"
        },
        {
          "output_type": "stream",
          "text": [
            "\r  5%|▍         | 57/1257 [01:18<59:21,  2.97s/it]"
          ],
          "name": "stderr"
        },
        {
          "output_type": "stream",
          "text": [
            "AI Trader bought: $27.165001\n"
          ],
          "name": "stdout"
        },
        {
          "output_type": "stream",
          "text": [
            "\r  5%|▍         | 58/1257 [01:21<59:33,  2.98s/it]"
          ],
          "name": "stderr"
        },
        {
          "output_type": "stream",
          "text": [
            "AI Trader sold: 27.2549991607666 Profit: $0.722500\n"
          ],
          "name": "stdout"
        },
        {
          "output_type": "stream",
          "text": [
            "\r  5%|▍         | 59/1257 [01:24<1:00:09,  3.01s/it]"
          ],
          "name": "stderr"
        },
        {
          "output_type": "stream",
          "text": [
            "AI Trader sold: 27.610000610351562 Profit: $1.312500\n"
          ],
          "name": "stdout"
        },
        {
          "output_type": "stream",
          "text": [
            "  5%|▍         | 61/1257 [01:30<59:26,  2.98s/it]  "
          ],
          "name": "stderr"
        },
        {
          "output_type": "stream",
          "text": [
            "AI Trader sold: 28.024999618530273 Profit: $0.527500\n"
          ],
          "name": "stdout"
        },
        {
          "output_type": "stream",
          "text": [
            "  5%|▌         | 66/1257 [01:44<58:52,  2.97s/it]"
          ],
          "name": "stderr"
        },
        {
          "output_type": "stream",
          "text": [
            "AI Trader bought: $26.492500\n"
          ],
          "name": "stdout"
        },
        {
          "output_type": "stream",
          "text": [
            "  5%|▌         | 69/1257 [01:53<57:29,  2.90s/it]"
          ],
          "name": "stderr"
        },
        {
          "output_type": "stream",
          "text": [
            "AI Trader bought: $26.087500\n"
          ],
          "name": "stdout"
        },
        {
          "output_type": "stream",
          "text": [
            "\r  6%|▌         | 70/1257 [01:56<58:16,  2.95s/it]"
          ],
          "name": "stderr"
        },
        {
          "output_type": "stream",
          "text": [
            "AI Trader bought: $24.455000\n"
          ],
          "name": "stdout"
        },
        {
          "output_type": "stream",
          "text": [
            "\r  6%|▌         | 71/1257 [01:59<59:02,  2.99s/it]"
          ],
          "name": "stderr"
        },
        {
          "output_type": "stream",
          "text": [
            "AI Trader bought: $23.707500\n"
          ],
          "name": "stdout"
        },
        {
          "output_type": "stream",
          "text": [
            "\r  6%|▌         | 72/1257 [02:02<58:22,  2.96s/it]"
          ],
          "name": "stderr"
        },
        {
          "output_type": "stream",
          "text": [
            "AI Trader sold: 23.434999465942383 Profit: - $3.700001\n"
          ],
          "name": "stdout"
        },
        {
          "output_type": "stream",
          "text": [
            "\r  6%|▌         | 73/1257 [02:05<58:31,  2.97s/it]"
          ],
          "name": "stderr"
        },
        {
          "output_type": "stream",
          "text": [
            "AI Trader sold: 23.40999984741211 Profit: - $3.755001\n"
          ],
          "name": "stdout"
        },
        {
          "output_type": "stream",
          "text": [
            "\r  6%|▌         | 74/1257 [02:08<58:26,  2.96s/it]"
          ],
          "name": "stderr"
        },
        {
          "output_type": "stream",
          "text": [
            "AI Trader sold: 23.795000076293945 Profit: - $2.697500\n"
          ],
          "name": "stdout"
        },
        {
          "output_type": "stream",
          "text": [
            "\r  6%|▌         | 75/1257 [02:11<58:18,  2.96s/it]"
          ],
          "name": "stderr"
        },
        {
          "output_type": "stream",
          "text": [
            "AI Trader sold: 23.547500610351562 Profit: - $2.539999\n"
          ],
          "name": "stdout"
        },
        {
          "output_type": "stream",
          "text": [
            "\r  6%|▌         | 76/1257 [02:14<57:50,  2.94s/it]"
          ],
          "name": "stderr"
        },
        {
          "output_type": "stream",
          "text": [
            "AI Trader sold: 23.309999465942383 Profit: - $1.145000\n"
          ],
          "name": "stdout"
        },
        {
          "output_type": "stream",
          "text": [
            "\r  6%|▌         | 77/1257 [02:17<57:25,  2.92s/it]"
          ],
          "name": "stderr"
        },
        {
          "output_type": "stream",
          "text": [
            "AI Trader sold: 23.18000030517578 Profit: - $0.527500\n"
          ],
          "name": "stdout"
        },
        {
          "output_type": "stream",
          "text": [
            "  7%|▋         | 83/1257 [02:34<57:52,  2.96s/it]"
          ],
          "name": "stderr"
        },
        {
          "output_type": "stream",
          "text": [
            "AI Trader bought: $23.469999\n"
          ],
          "name": "stdout"
        },
        {
          "output_type": "stream",
          "text": [
            "  7%|▋         | 88/1257 [02:49<56:11,  2.88s/it]"
          ],
          "name": "stderr"
        },
        {
          "output_type": "stream",
          "text": [
            "AI Trader bought: $24.107500\n"
          ],
          "name": "stdout"
        },
        {
          "output_type": "stream",
          "text": [
            "\r  7%|▋         | 89/1257 [02:52<55:43,  2.86s/it]"
          ],
          "name": "stderr"
        },
        {
          "output_type": "stream",
          "text": [
            "AI Trader bought: $24.475000\n"
          ],
          "name": "stdout"
        },
        {
          "output_type": "stream",
          "text": [
            "\r  7%|▋         | 90/1257 [02:55<56:51,  2.92s/it]"
          ],
          "name": "stderr"
        },
        {
          "output_type": "stream",
          "text": [
            "AI Trader sold: 24.905000686645508 Profit: $1.435001\n"
          ],
          "name": "stdout"
        },
        {
          "output_type": "stream",
          "text": [
            "\r  7%|▋         | 91/1257 [02:58<56:46,  2.92s/it]"
          ],
          "name": "stderr"
        },
        {
          "output_type": "stream",
          "text": [
            "AI Trader sold: 25.102500915527344 Profit: $0.995001\n"
          ],
          "name": "stdout"
        }
      ]
    }
  ]
}